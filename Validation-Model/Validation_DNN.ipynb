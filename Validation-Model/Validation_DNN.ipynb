{
 "cells": [
  {
   "cell_type": "code",
   "execution_count": 1,
   "metadata": {
    "executionInfo": {
     "elapsed": 370,
     "status": "ok",
     "timestamp": 1647772973304,
     "user": {
      "displayName": "Vignesh S",
      "photoUrl": "https://lh3.googleusercontent.com/a/default-user=s64",
      "userId": "11315277004586324186"
     },
     "user_tz": -330
    },
    "id": "IrpBLC45l4xh"
   },
   "outputs": [],
   "source": [
    "import torch\n",
    "import torch.nn as nn\n",
    "import torch.nn.functional as F\n",
    "import torchvision\n",
    "import torch.optim as optim\n",
    "import matplotlib\n",
    "import matplotlib.pyplot as plt\n",
    "import torchvision.transforms as transforms\n",
    "from tqdm import tqdm\n",
    "import os\n",
    "import random\n",
    "from typing import Tuple\n",
    "from torchvision import datasets\n",
    "from torch.utils.data import DataLoader\n",
    "from torchvision.utils import save_image\n",
    "from torch.autograd import Variable\n",
    "import numpy as np\n",
    "import PIL\n",
    "import pandas as pd\n",
    "matplotlib.style.use('ggplot')\n",
    "torch.cuda.empty_cache()\n",
    "\n",
    "def set_seed(seed):\n",
    "    os.environ[\"PYTHONHASHSEED\"] = str(seed)\n",
    "    random.seed(seed)\n",
    "    np.random.seed(seed)\n",
    "    torch.manual_seed(seed)\n",
    "    torch.cuda.manual_seed_all(seed)\n",
    "\n",
    "set_seed(1234)"
   ]
  },
  {
   "cell_type": "code",
   "execution_count": 113,
   "metadata": {
    "colab": {
     "base_uri": "https://localhost:8080/"
    },
    "executionInfo": {
     "elapsed": 39416,
     "status": "ok",
     "timestamp": 1647777846995,
     "user": {
      "displayName": "Vignesh S",
      "photoUrl": "https://lh3.googleusercontent.com/a/default-user=s64",
      "userId": "11315277004586324186"
     },
     "user_tz": -330
    },
    "id": "IJfCcv9iC9Qw",
    "outputId": "2c82956b-01cc-4173-ca92-08be78413f90"
   },
   "outputs": [
    {
     "name": "stdout",
     "output_type": "stream",
     "text": [
      "/content/drive/MyDrive/Latent Transfer/Validation model/main.py:68: UserWarning: Creating a tensor from a list of numpy.ndarrays is extremely slow. Please consider converting the list to a single numpy.ndarray with numpy.array() before converting to a tensor. (Triggered internally at  ../torch/csrc/utils/tensor_new.cpp:201.)\n",
      "  tensor_x = torch.Tensor(x)\n",
      "100% 150/150 [00:00<00:00, 972.43it/s]\n",
      "Training Started:\n",
      "\n",
      "\n",
      "100% 600/600 [00:01<00:00, 465.47it/s]\n",
      "100% 150/150 [00:00<00:00, 1129.09it/s]\n",
      "Improvement-Detected, save-model\n",
      "Epoch: 000 || Train Loss: 0.712 || Train Acc: 87.938 || Eval Loss: 0.088 || Eval Acc: 100.000\n",
      "\n",
      "\n",
      "100% 600/600 [00:01<00:00, 462.36it/s]\n",
      "100% 150/150 [00:00<00:00, 1099.80it/s]\n",
      "Epoch: 001 || Train Loss: 0.052 || Train Acc: 100.000 || Eval Loss: 0.033 || Eval Acc: 100.000\n",
      "\n",
      "\n",
      "100% 600/600 [00:01<00:00, 449.79it/s]\n",
      "100% 150/150 [00:00<00:00, 1011.91it/s]\n",
      "Epoch: 002 || Train Loss: 0.025 || Train Acc: 100.000 || Eval Loss: 0.019 || Eval Acc: 100.000\n",
      "\n",
      "\n",
      "100% 600/600 [00:01<00:00, 474.13it/s]\n",
      "100% 150/150 [00:00<00:00, 1105.08it/s]\n",
      "Epoch: 003 || Train Loss: 0.016 || Train Acc: 100.000 || Eval Loss: 0.014 || Eval Acc: 100.000\n",
      "\n",
      "\n",
      "100% 600/600 [00:01<00:00, 459.89it/s]\n",
      "100% 150/150 [00:00<00:00, 1002.36it/s]\n",
      "Epoch: 004 || Train Loss: 0.012 || Train Acc: 100.000 || Eval Loss: 0.010 || Eval Acc: 100.000\n",
      "\n",
      "\n",
      "100% 600/600 [00:01<00:00, 459.41it/s]\n",
      "100% 150/150 [00:00<00:00, 1037.68it/s]\n",
      "Epoch: 005 || Train Loss: 0.009 || Train Acc: 100.000 || Eval Loss: 0.008 || Eval Acc: 100.000\n",
      "\n",
      "\n",
      "100% 600/600 [00:01<00:00, 458.23it/s]\n",
      "100% 150/150 [00:00<00:00, 1044.64it/s]\n",
      "Epoch: 006 || Train Loss: 0.008 || Train Acc: 100.000 || Eval Loss: 0.007 || Eval Acc: 100.000\n",
      "\n",
      "\n",
      "100% 600/600 [00:01<00:00, 466.93it/s]\n",
      "100% 150/150 [00:00<00:00, 1060.30it/s]\n",
      "Epoch: 007 || Train Loss: 0.006 || Train Acc: 100.000 || Eval Loss: 0.006 || Eval Acc: 100.000\n",
      "\n",
      "\n",
      "100% 600/600 [00:01<00:00, 456.93it/s]\n",
      "100% 150/150 [00:00<00:00, 1044.68it/s]\n",
      "Epoch: 008 || Train Loss: 0.005 || Train Acc: 100.000 || Eval Loss: 0.005 || Eval Acc: 100.000\n",
      "\n",
      "\n",
      "100% 600/600 [00:01<00:00, 466.95it/s]\n",
      "100% 150/150 [00:00<00:00, 1060.93it/s]\n",
      "Epoch: 009 || Train Loss: 0.005 || Train Acc: 100.000 || Eval Loss: 0.005 || Eval Acc: 100.000\n",
      "\n",
      "\n",
      "100% 600/600 [00:01<00:00, 471.77it/s]\n",
      "100% 150/150 [00:00<00:00, 1070.48it/s]\n",
      "Epoch: 010 || Train Loss: 0.004 || Train Acc: 100.000 || Eval Loss: 0.004 || Eval Acc: 100.000\n",
      "\n",
      "\n",
      "100% 600/600 [00:01<00:00, 457.40it/s]\n",
      "100% 150/150 [00:00<00:00, 1000.26it/s]\n",
      "Epoch: 011 || Train Loss: 0.004 || Train Acc: 100.000 || Eval Loss: 0.004 || Eval Acc: 100.000\n",
      "\n",
      "\n",
      "100% 600/600 [00:01<00:00, 452.17it/s]\n",
      "100% 150/150 [00:00<00:00, 1046.89it/s]\n",
      "Epoch: 012 || Train Loss: 0.004 || Train Acc: 100.000 || Eval Loss: 0.003 || Eval Acc: 100.000\n",
      "\n",
      "\n",
      "100% 600/600 [00:01<00:00, 464.36it/s]\n",
      "100% 150/150 [00:00<00:00, 963.42it/s]\n",
      "Epoch: 013 || Train Loss: 0.003 || Train Acc: 100.000 || Eval Loss: 0.003 || Eval Acc: 100.000\n",
      "\n",
      "\n",
      "100% 600/600 [00:01<00:00, 450.94it/s]\n",
      "100% 150/150 [00:00<00:00, 1091.48it/s]\n",
      "Epoch: 014 || Train Loss: 0.003 || Train Acc: 100.000 || Eval Loss: 0.003 || Eval Acc: 100.000\n",
      "\n",
      "\n",
      "100% 600/600 [00:01<00:00, 449.03it/s]\n",
      "100% 150/150 [00:00<00:00, 1013.04it/s]\n",
      "Epoch: 015 || Train Loss: 0.003 || Train Acc: 100.000 || Eval Loss: 0.003 || Eval Acc: 100.000\n",
      "\n",
      "\n",
      "100% 600/600 [00:01<00:00, 448.66it/s]\n",
      "100% 150/150 [00:00<00:00, 1024.30it/s]\n",
      "Epoch: 016 || Train Loss: 0.003 || Train Acc: 100.000 || Eval Loss: 0.002 || Eval Acc: 100.000\n",
      "\n",
      "\n",
      "100% 600/600 [00:01<00:00, 449.67it/s]\n",
      "100% 150/150 [00:00<00:00, 982.60it/s]\n",
      "Epoch: 017 || Train Loss: 0.002 || Train Acc: 100.000 || Eval Loss: 0.002 || Eval Acc: 100.000\n",
      "\n",
      "\n",
      "100% 600/600 [00:01<00:00, 430.76it/s]\n",
      "100% 150/150 [00:00<00:00, 1054.01it/s]\n",
      "Epoch: 018 || Train Loss: 0.002 || Train Acc: 100.000 || Eval Loss: 0.002 || Eval Acc: 100.000\n",
      "\n",
      "\n",
      "100% 600/600 [00:01<00:00, 449.51it/s]\n",
      "100% 150/150 [00:00<00:00, 1059.19it/s]\n",
      "Epoch: 019 || Train Loss: 0.002 || Train Acc: 100.000 || Eval Loss: 0.002 || Eval Acc: 100.000\n"
     ]
    }
   ],
   "source": [
    "!python /content/drive/MyDrive/Latent\\ Transfer/Validation\\ model/main.py"
   ]
  },
  {
   "cell_type": "code",
   "execution_count": 2,
   "metadata": {},
   "outputs": [
    {
     "data": {
      "text/plain": [
       "'/home/ubuntu/miniconda3/envs/latent/bin/python'"
      ]
     },
     "execution_count": 2,
     "metadata": {},
     "output_type": "execute_result"
    }
   ],
   "source": [
    "import sys\n",
    "sys.executable"
   ]
  },
  {
   "cell_type": "code",
   "execution_count": null,
   "metadata": {
    "id": "BS_7ATqvFqlg"
   },
   "outputs": [],
   "source": []
  }
 ],
 "metadata": {
  "accelerator": "GPU",
  "colab": {
   "authorship_tag": "ABX9TyOamZZ9UT64hlbB7lrtnF1F",
   "collapsed_sections": [],
   "mount_file_id": "1WKoYpfKk3Ny902ORT3ZizeLDUgYfk9J9",
   "name": "Validation_DNN.ipynb",
   "provenance": []
  },
  "kernelspec": {
   "display_name": "Python 3 (ipykernel)",
   "language": "python",
   "name": "python3"
  },
  "language_info": {
   "codemirror_mode": {
    "name": "ipython",
    "version": 3
   },
   "file_extension": ".py",
   "mimetype": "text/x-python",
   "name": "python",
   "nbconvert_exporter": "python",
   "pygments_lexer": "ipython3",
   "version": "3.7.11"
  }
 },
 "nbformat": 4,
 "nbformat_minor": 1
}
